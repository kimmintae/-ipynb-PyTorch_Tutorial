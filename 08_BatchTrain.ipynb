{
 "cells": [
  {
   "cell_type": "markdown",
   "metadata": {},
   "source": [
    "# Batch Train"
   ]
  },
  {
   "cell_type": "code",
   "execution_count": 6,
   "metadata": {},
   "outputs": [
    {
     "data": {
      "text/plain": [
       "<torch._C.Generator at 0x21db47a0f70>"
      ]
     },
     "execution_count": 6,
     "metadata": {},
     "output_type": "execute_result"
    }
   ],
   "source": [
    "import torch\n",
    "import torch.utils.data as Data\n",
    "import matplotlib.pyplot as plt\n",
    "%matplotlib inline\n",
    "torch.manual_seed(1)"
   ]
  },
  {
   "cell_type": "code",
   "execution_count": 7,
   "metadata": {},
   "outputs": [],
   "source": [
    "BATCH_SIZE = 5"
   ]
  },
  {
   "cell_type": "code",
   "execution_count": 8,
   "metadata": {},
   "outputs": [],
   "source": [
    "x = torch.linspace(1, 10, 10)\n",
    "y = torch.linspace(10, 1, 10)"
   ]
  },
  {
   "cell_type": "code",
   "execution_count": 11,
   "metadata": {},
   "outputs": [
    {
     "data": {
      "image/png": "[encoded data removed]",
      "text/plain": [
       "<matplotlib.figure.Figure at 0x21db5b2c710>"
      ]
     },
     "metadata": {},
     "output_type": "display_data"
    }
   ],
   "source": [
    "plt.scatter(x, y)\n",
    "plt.show()"
   ]
  },
  {
   "cell_type": "code",
   "execution_count": 12,
   "metadata": {},
   "outputs": [],
   "source": [
    "torch_dataset = Data.TensorDataset(data_tensor=x, target_tensor=y)\n",
    "loader = Data.DataLoader(\n",
    "    dataset=torch_dataset,\n",
    "    batch_size=BATCH_SIZE,\n",
    "    shuffle=True,\n",
    "    num_workers=2)"
   ]
  },
  {
   "cell_type": "code",
   "execution_count": 16,
   "metadata": {},
   "outputs": [
    {
     "name": "stdout",
     "output_type": "stream",
     "text": [
      "Epoch:  0 | Step:  0 | batch x:  [  6.   3.   5.  10.   1.] | batch y:  [  5.   8.   6.   1.  10.]\n",
      "Epoch:  0 | Step:  1 | batch x:  [ 7.  8.  4.  9.  2.] | batch y:  [ 4.  3.  7.  2.  9.]\n",
      "Epoch:  1 | Step:  0 | batch x:  [  8.   1.  10.   4.   2.] | batch y:  [  3.  10.   1.   7.   9.]\n",
      "Epoch:  1 | Step:  1 | batch x:  [ 5.  7.  9.  3.  6.] | batch y:  [ 6.  4.  2.  8.  5.]\n",
      "Epoch:  2 | Step:  0 | batch x:  [ 4.  8.  9.  3.  5.] | batch y:  [ 7.  3.  2.  8.  6.]\n",
      "Epoch:  2 | Step:  1 | batch x:  [  6.   1.   2.  10.   7.] | batch y:  [  5.  10.   9.   1.   4.]\n"
     ]
    }
   ],
   "source": [
    "for epoch in range(3):   # train entire dataset 3 times\n",
    "    for step, (batch_x, batch_y) in enumerate(loader):  # for each training step\n",
    "        # train your data...\n",
    "        print('Epoch: ', epoch, '| Step: ', step, '| batch x: ',\n",
    "              batch_x.numpy(), '| batch y: ', batch_y.numpy())"
   ]
  },
  {
   "cell_type": "markdown",
   "metadata": {},
   "source": [
    "## Suppose a different batch size that cannot be fully divided by the number of data entreis:"
   ]
  },
  {
   "cell_type": "code",
   "execution_count": 15,
   "metadata": {},
   "outputs": [
    {
     "name": "stdout",
     "output_type": "stream",
     "text": [
      "Epoch:  0 | Step:  0 | batch x:  [  2.  10.   4.   7.   9.] | batch y:  [ 9.  1.  7.  4.  2.]\n",
      "Epoch:  0 | Step:  1 | batch x:  [ 1.  6.  3.  8.  5.] | batch y:  [ 10.   5.   8.   3.   6.]\n",
      "Epoch:  1 | Step:  0 | batch x:  [ 4.  9.  6.  1.  2.] | batch y:  [  7.   2.   5.  10.   9.]\n",
      "Epoch:  1 | Step:  1 | batch x:  [ 10.   3.   7.   5.   8.] | batch y:  [ 1.  8.  4.  6.  3.]\n",
      "Epoch:  2 | Step:  0 | batch x:  [  3.   5.   8.  10.   4.] | batch y:  [ 8.  6.  3.  1.  7.]\n",
      "Epoch:  2 | Step:  1 | batch x:  [ 6.  2.  1.  9.  7.] | batch y:  [  5.   9.  10.   2.   4.]\n"
     ]
    }
   ],
   "source": [
    "BATCH_SIZE = 5 # <----- 총 데이터 수는 10개 배치 사이즈는 8일 때는 완전하게 수가 나눠지지 않는다\n",
    "loader = Data.DataLoader(\n",
    "    dataset=torch_dataset,      # torch TensorDataset format\n",
    "    batch_size=BATCH_SIZE,      # mini batch size\n",
    "    shuffle=True,               # random shuffle for training\n",
    "    num_workers=2,              # subprocesses for loading data\n",
    ")\n",
    "for epoch in range(3):   # train entire dataset 3 times\n",
    "    for step, (batch_x, batch_y) in enumerate(loader):  # for each training step\n",
    "        # train your data...\n",
    "        print('Epoch: ', epoch, '| Step: ', step, '| batch x: ',\n",
    "              batch_x.numpy(), '| batch y: ', batch_y.numpy())"
   ]
  },
  {
   "cell_type": "code",
   "execution_count": null,
   "metadata": {},
   "outputs": [],
   "source": []
  }
 ],
 "metadata": {
  "kernelspec": {
   "display_name": "Python 3",
   "language": "python",
   "name": "python3"
  },
  "language_info": {
   "codemirror_mode": {
    "name": "ipython",
    "version": 3
   },
   "file_extension": ".py",
   "mimetype": "text/x-python",
   "name": "python",
   "nbconvert_exporter": "python",
   "pygments_lexer": "ipython3",
   "version": "3.6.3"
  }
 },
 "nbformat": 4,
 "nbformat_minor": 2
}
